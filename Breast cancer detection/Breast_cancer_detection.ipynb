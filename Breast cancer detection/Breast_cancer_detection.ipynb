{
 "cells": [
  {
   "cell_type": "code",
   "execution_count": 15,
   "metadata": {},
   "outputs": [],
   "source": [
    "import mglearn\n",
    "import matplotlib.pyplot as plt\n",
    "%matplotlib inline"
   ]
  },
  {
   "cell_type": "code",
   "execution_count": 16,
   "metadata": {},
   "outputs": [
    {
     "name": "stdout",
     "output_type": "stream",
     "text": [
      "['mean radius' 'mean texture' 'mean perimeter' 'mean area'\n",
      " 'mean smoothness' 'mean compactness' 'mean concavity'\n",
      " 'mean concave points' 'mean symmetry' 'mean fractal dimension'\n",
      " 'radius error' 'texture error' 'perimeter error' 'area error'\n",
      " 'smoothness error' 'compactness error' 'concavity error'\n",
      " 'concave points error' 'symmetry error' 'fractal dimension error'\n",
      " 'worst radius' 'worst texture' 'worst perimeter' 'worst area'\n",
      " 'worst smoothness' 'worst compactness' 'worst concavity'\n",
      " 'worst concave points' 'worst symmetry' 'worst fractal dimension']\n",
      "['malignant' 'benign']\n"
     ]
    }
   ],
   "source": [
    "from sklearn.neural_network import MLPClassifier\n",
    "from sklearn.datasets import load_breast_cancer\n",
    "from sklearn.model_selection import train_test_split\n",
    "\n",
    "cancer = load_breast_cancer()\n",
    "\n",
    "x_train,x_test,y_train,y_test = train_test_split(cancer.data,cancer.target,random_state=0)\n",
    "\n",
    "print(cancer.feature_names)\n",
    "print(cancer.target_names)"
   ]
  },
  {
   "cell_type": "code",
   "execution_count": 12,
   "metadata": {},
   "outputs": [
    {
     "name": "stdout",
     "output_type": "stream",
     "text": [
      "maximum for each feature\n",
      "[  2.81100000e+01   3.92800000e+01   1.88500000e+02   2.50100000e+03\n",
      "   1.63400000e-01   3.45400000e-01   4.26800000e-01   2.01200000e-01\n",
      "   3.04000000e-01   9.74400000e-02   2.87300000e+00   4.88500000e+00\n",
      "   2.19800000e+01   5.42200000e+02   3.11300000e-02   1.35400000e-01\n",
      "   3.96000000e-01   5.27900000e-02   7.89500000e-02   2.98400000e-02\n",
      "   3.60400000e+01   4.95400000e+01   2.51200000e+02   4.25400000e+03\n",
      "   2.22600000e-01   1.05800000e+00   1.25200000e+00   2.91000000e-01\n",
      "   6.63800000e-01   2.07500000e-01]\n"
     ]
    }
   ],
   "source": [
    "print('maximum for each feature\\n{}'.format(cancer.data.max(axis=0)))"
   ]
  },
  {
   "cell_type": "code",
   "execution_count": 19,
   "metadata": {},
   "outputs": [
    {
     "name": "stdout",
     "output_type": "stream",
     "text": [
      "total set  569\n",
      "number patients affected(malignant) 209\n",
      "number patients not affected(benign) 360\n",
      "training set length 426\n",
      "number patients affected(malignant) 156\n",
      "number patients not affected(benign) 270\n",
      "training set length 143\n",
      "number patients affected(malignant) 53\n",
      "number patients not affected(benign) 90\n",
      "accuracy on training subset: 0.932\n",
      "accuracy on testing subset: 0.944\n"
     ]
    }
   ],
   "source": [
    "#improve performance\n",
    "mlp=MLPClassifier(max_iter=1000,alpha=1,random_state=42)\n",
    "mlp.fit(x_train,y_train)\n",
    "\n",
    "\n",
    "y=mlp.predict(x_test)\n",
    "x=mlp.predict(x_train)\n",
    "j=0\n",
    "k=0\n",
    "l=0\n",
    "m=0\n",
    "for i in range(len(mlp.predict(x_train))):\n",
    "    if x[i]==1:\n",
    "        j+=1\n",
    "    else:\n",
    "        k+=1\n",
    "        \n",
    "for i in range(len(mlp.predict(x_test))):\n",
    "    if y[i]==1:\n",
    "        l+=1\n",
    "    else:\n",
    "        m+=1\n",
    "print('total set ',len(x_train)+len(x_test))\n",
    "print('number patients affected(malignant)',k+m)        \n",
    "print('number patients not affected(benign)',j+l)\n",
    "\n",
    "\n",
    "print('training set length',len(x_train))\n",
    "print('number patients affected(malignant)',k)        \n",
    "print('number patients not affected(benign)',j)\n",
    "\n",
    "\n",
    "print('training set length',len(x_test))\n",
    "print('number patients affected(malignant)',m)        \n",
    "print('number patients not affected(benign)',l)\n",
    "\n",
    "#for i in range(len(x_train)):\n",
    " #   if x_train[i]==y_train[i]:\n",
    "  #      print('malignant')\n",
    "        \n",
    "print('accuracy on training subset: {:.3f}'.format(mlp.score(x_train,y_train)))\n",
    "print('accuracy on testing subset: {:.3f}'.format(mlp.score(x_test,y_test)))\n"
   ]
  },
  {
   "cell_type": "code",
   "execution_count": null,
   "metadata": {},
   "outputs": [],
   "source": []
  },
  {
   "cell_type": "code",
   "execution_count": null,
   "metadata": {},
   "outputs": [],
   "source": []
  }
 ],
 "metadata": {
  "kernelspec": {
   "display_name": "Python 3",
   "language": "python",
   "name": "python3"
  },
  "language_info": {
   "codemirror_mode": {
    "name": "ipython",
    "version": 3
   },
   "file_extension": ".py",
   "mimetype": "text/x-python",
   "name": "python",
   "nbconvert_exporter": "python",
   "pygments_lexer": "ipython3",
   "version": "3.5.3"
  }
 },
 "nbformat": 4,
 "nbformat_minor": 2
}
